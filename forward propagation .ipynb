{
 "cells": [
  {
   "cell_type": "markdown",
   "metadata": {},
   "source": [
    "# LAB 2 - FORWARD PROPOGATION CALCULATION "
   ]
  },
  {
   "cell_type": "code",
   "execution_count": 109,
   "metadata": {},
   "outputs": [],
   "source": [
    "#create x np array \n",
    "import numpy as np\n",
    "import math\n",
    "# input x =\n",
    "# x = np.array([[1,6,8,0], [33,2,3,5], [1,6,6,7], [2,9,8,4], [5,6,9,6], [32, 13, 0,2]])\n",
    "# x"
   ]
  },
  {
   "cell_type": "code",
   "execution_count": 110,
   "metadata": {},
   "outputs": [],
   "source": [
    "#create y np array \n",
    "# label y = \n",
    "# y = np.array([[1,0,1,0], [0,1,0,1]])\n",
    "# y"
   ]
  },
  {
   "cell_type": "markdown",
   "metadata": {},
   "source": [
    "### w, b = initialised using 0.01\n",
    "\n",
    "### Activation function: Sigmoid or ReLu, define a function to calculate the output:"
   ]
  },
  {
   "cell_type": "code",
   "execution_count": 222,
   "metadata": {},
   "outputs": [],
   "source": [
    "x = np.array([[1,2], [1,0]])\n",
    "y = np.array([[1,0], [0,1]])\n",
    "weight_matrix = np.zeros((2,2)) #dimension = number of rows of x, by number of rows y\n",
    "bias_matrix = np.zeros((2,1)) #always a column vector due to broadcasting, = number of rows in x (may need np.full((2,2),0.1)\n",
    "n=0.1 #learning rate"
   ]
  },
  {
   "cell_type": "code",
   "execution_count": 214,
   "metadata": {},
   "outputs": [],
   "source": [
    "def forward_prop(input, label, weight_matrix, bias_matrix):\n",
    "    #create weight matrix in this case 6x4 of 0.01\n",
    "     weight = weight_matrix \n",
    "    #create b\n",
    "     b = bias_matrix\n",
    "    #calculate linear transformation \n",
    "     hidden = (np.dot(weight.transpose(), input)) + b\n",
    "    #apply sigmoid function, perfomring non-linear transformation\n",
    "     activation = 1/(1+np.exp(-hidden))\n",
    "     out = activation\n",
    "     return out"
   ]
  },
  {
   "cell_type": "code",
   "execution_count": 215,
   "metadata": {},
   "outputs": [
    {
     "data": {
      "text/plain": [
       "array([[0.5, 0.5],\n",
       "       [0.5, 0.5]])"
      ]
     },
     "execution_count": 215,
     "metadata": {},
     "output_type": "execute_result"
    }
   ],
   "source": [
    "y_pred = forward_prop(f,g,weight_matrix,bias_matrix)\n",
    "y_pred"
   ]
  },
  {
   "cell_type": "markdown",
   "metadata": {},
   "source": [
    "# Loss Function\n",
    "\n",
    "### Define a L1 and L2 norm loss functions "
   ]
  },
  {
   "cell_type": "code",
   "execution_count": 216,
   "metadata": {},
   "outputs": [],
   "source": [
    "# function for L1 norm loss function:\n",
    "\n",
    "def loss_L1(actual, predicted):\n",
    "    loss = sum((abs(actual)-abs(predicted)))\n",
    "    return loss"
   ]
  },
  {
   "cell_type": "code",
   "execution_count": 217,
   "metadata": {},
   "outputs": [],
   "source": [
    "act = np.array([-2,2,-2,2])\n",
    "pred = np.array([1,-1,1,-1])"
   ]
  },
  {
   "cell_type": "code",
   "execution_count": 218,
   "metadata": {},
   "outputs": [
    {
     "data": {
      "text/plain": [
       "4"
      ]
     },
     "execution_count": 218,
     "metadata": {},
     "output_type": "execute_result"
    }
   ],
   "source": [
    "loss_L1(act, pred)"
   ]
  },
  {
   "cell_type": "code",
   "execution_count": 219,
   "metadata": {},
   "outputs": [],
   "source": [
    "# function for L2 norm loss function:\n",
    "\n",
    "def loss_L2(actual, predicted):\n",
    "    loss = math.sqrt(np.sum((actual-predicted)**2))\n",
    "    return loss"
   ]
  },
  {
   "cell_type": "code",
   "execution_count": 220,
   "metadata": {},
   "outputs": [],
   "source": [
    "loss_1 = loss_L2(k, y_pred)"
   ]
  },
  {
   "cell_type": "code",
   "execution_count": 221,
   "metadata": {},
   "outputs": [],
   "source": [
    "# loss 1/k sum ||y_pred - y||**2\n",
    "def loss_avg(actual, predicted, x):\n",
    "    k = x.shape[1]\n",
    "    loss = 1/k*(sum(np.sqrt(sum((actual-predicted)**2))))\n",
    "    return loss"
   ]
  },
  {
   "cell_type": "markdown",
   "metadata": {},
   "source": [
    "# Backward Propogation (Backpropogation, BP)\n",
    "\n",
    "### Define a function for BP"
   ]
  },
  {
   "cell_type": "code",
   "execution_count": 226,
   "metadata": {},
   "outputs": [],
   "source": [
    "# partial derivative wrt W = 1/kX(Y^-Y)^T\n",
    "# so W = W - n(1/kX(Y^-Y)^T)\n",
    "def W(x,actual,predicted,learning_rate):\n",
    "    k = x.shape[1]\n",
    "    n = learning_rate\n",
    "    w = weight_matrix - n*(1/k*(np.dot(x,(predicted-actual).transpose())))\n",
    "    return w \n",
    "    \n"
   ]
  },
  {
   "cell_type": "code",
   "execution_count": 227,
   "metadata": {},
   "outputs": [
    {
     "data": {
      "text/plain": [
       "array([[-0.025,  0.025],\n",
       "       [ 0.025, -0.025]])"
      ]
     },
     "execution_count": 227,
     "metadata": {},
     "output_type": "execute_result"
    }
   ],
   "source": [
    "W_new = W(x,y,y_pred,n)\n",
    "W_new"
   ]
  },
  {
   "cell_type": "code",
   "execution_count": 232,
   "metadata": {},
   "outputs": [],
   "source": [
    "# partial derivative of b = 1/k(sum(yi^-yi))\n",
    "# so b = b-n(1/k(sum(yi^-yi)))\n",
    "\n",
    "def b(x,actual,predicted,learning_rate):\n",
    "    k = x.shape[1]\n",
    "    n = learning_rate\n",
    "    b = (bias_matrix - n*(1/k*(np.sum(predicted-actual)))).flatten()\n",
    "    return b"
   ]
  },
  {
   "cell_type": "code",
   "execution_count": 233,
   "metadata": {},
   "outputs": [
    {
     "data": {
      "text/plain": [
       "array([0., 0.])"
      ]
     },
     "execution_count": 233,
     "metadata": {},
     "output_type": "execute_result"
    }
   ],
   "source": [
    "bias_new = b(x,y,y_pred,n)\n",
    "bias_new"
   ]
  },
  {
   "cell_type": "code",
   "execution_count": 234,
   "metadata": {},
   "outputs": [
    {
     "data": {
      "text/plain": [
       "array([[0.5      , 0.4875026],\n",
       "       [0.5      , 0.5124974]])"
      ]
     },
     "execution_count": 234,
     "metadata": {},
     "output_type": "execute_result"
    }
   ],
   "source": [
    "y_pred_new = forward_prop(x,y,W_new,bias_new)\n",
    "y_pred_new"
   ]
  },
  {
   "cell_type": "code",
   "execution_count": 235,
   "metadata": {},
   "outputs": [
    {
     "data": {
      "text/plain": [
       "0.9875816811126796"
      ]
     },
     "execution_count": 235,
     "metadata": {},
     "output_type": "execute_result"
    }
   ],
   "source": [
    "loss_L2(g,y_pred_new)"
   ]
  }
 ],
 "metadata": {
  "kernelspec": {
   "display_name": "Python 3",
   "language": "python",
   "name": "python3"
  },
  "language_info": {
   "codemirror_mode": {
    "name": "ipython",
    "version": 3
   },
   "file_extension": ".py",
   "mimetype": "text/x-python",
   "name": "python",
   "nbconvert_exporter": "python",
   "pygments_lexer": "ipython3",
   "version": "3.8.5"
  }
 },
 "nbformat": 4,
 "nbformat_minor": 4
}
